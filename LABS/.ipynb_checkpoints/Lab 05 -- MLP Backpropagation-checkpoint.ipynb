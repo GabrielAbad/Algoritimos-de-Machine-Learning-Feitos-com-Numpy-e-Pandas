{
 "cells": [
  {
   "cell_type": "code",
   "execution_count": 1,
   "id": "425ac6e9-8919-4c06-be1c-782241f835f6",
   "metadata": {
    "tags": []
   },
   "outputs": [],
   "source": [
    "import numpy as np\n",
    "import pandas as pd\n",
    "import matplotlib.pyplot as plt\n",
    "from mpmath import mp"
   ]
  },
  {
   "cell_type": "markdown",
   "id": "fc6f6b7d-1fdf-43a4-bd7c-03d90114d3fb",
   "metadata": {},
   "source": [
    "# Lab 9 - Multi-layer Perceptron Forward Pass & Backpropagation"
   ]
  },
  {
   "cell_type": "markdown",
   "id": "b99c1b83-fb9a-4321-882b-fd0c74d2ab1b",
   "metadata": {},
   "source": [
    "## Part I\n",
    "For this exercise you will implement a simple 2-layer perceptron with the forward pass and the backpropagation to learn the weights\n",
    "\n",
    "For the first part you'll build and train a 2-layer neural network that predicts the prices of houses, using the usual Boston housing dataset."
   ]
  },
  {
   "cell_type": "code",
   "execution_count": 2,
   "id": "7804bef6-2bd6-4d05-bc4e-f9d8325f12ec",
   "metadata": {
    "tags": []
   },
   "outputs": [],
   "source": [
    "boston = pd.read_csv('datasets/BostonHousing.txt')"
   ]
  },
  {
   "cell_type": "markdown",
   "id": "d6bdfc73-7702-4a3c-af9f-6fb897ec643c",
   "metadata": {
    "tags": []
   },
   "source": [
    "As usual, consider the MEDV as your target variable. \n",
    "* Split the data into training, validation and testing (70,15,15)%\n",
    "* Experiment with different number of neurons per layer for your network, using the validation set"
   ]
  },
  {
   "cell_type": "code",
   "execution_count": 3,
   "id": "5df5bfc8-26c0-4d48-9c3c-05a9e404e1d4",
   "metadata": {
    "tags": []
   },
   "outputs": [],
   "source": [
    "from sklearn.model_selection import train_test_split\n",
    "X = boston.to_numpy()\n",
    "y = X[:,13]\n",
    "X = X[:,:13]\n",
    "X_train, X_temp, y_train, y_temp = train_test_split(X,y,test_size=0.3)\n",
    "X_test, X_val, y_test, y_val = train_test_split(X_temp,y_temp,test_size=0.5)"
   ]
  },
  {
   "cell_type": "code",
   "execution_count": 56,
   "id": "dcc26211-91c1-47f9-8779-eb723b0c209e",
   "metadata": {},
   "outputs": [],
   "source": [
    "class LRMLP(object):\n",
    "\n",
    "    def __init__(self, num_inputs=3, hidden_layers=[3, 3], num_outputs=2):\n",
    "\n",
    "        self.num_inputs = num_inputs\n",
    "        self.hidden_layers = hidden_layers\n",
    "        self.num_outputs = num_outputs\n",
    "\n",
    "        layers = [num_inputs] + hidden_layers + [num_outputs]\n",
    "\n",
    "        weights = []\n",
    "        for i in range(len(layers) - 1):\n",
    "            w = np.random.normal(size=(layers[i], layers[i + 1]))\n",
    "            weights.append(w)\n",
    "        self.weights = weights\n",
    "\n",
    "        derivatives = []\n",
    "        for i in range(len(layers) - 1):\n",
    "            d = np.zeros((layers[i], layers[i + 1]))\n",
    "            derivatives.append(d)\n",
    "        self.derivatives = derivatives\n",
    "\n",
    "        activations = []\n",
    "        for i in range(len(layers)):\n",
    "            a = np.zeros(layers[i])\n",
    "            activations.append(a)\n",
    "        self.activations = activations\n",
    "        \n",
    "        self.epochs_errors = []\n",
    "\n",
    "\n",
    "    def forward_propagate(self, inputs):\n",
    "        activations = inputs\n",
    "        self.activations[0] = activations\n",
    "        \n",
    "        for i, w in enumerate(self.weights):\n",
    "            net_inputs = np.dot(activations, w)\n",
    "            \n",
    "            if i < len(self.weights) - 1:\n",
    "                activations = self._sigmoid(net_inputs)\n",
    "            else:\n",
    "                activations = net_inputs\n",
    "        \n",
    "            \n",
    "            self.activations[i + 1] = activations\n",
    "        \n",
    "        return activations\n",
    "\n",
    "\n",
    "    def back_propagate(self, error):\n",
    "\n",
    "        for i in reversed(range(len(self.derivatives))):\n",
    "            activations = self.activations[i+1]\n",
    "            \n",
    "            if i < len(self.derivatives) - 1:\n",
    "                delta = error * self._sigmoid_derivative(activations)\n",
    "            else:\n",
    "                delta = error\n",
    "            '''\n",
    "            for ilinha in range(self.derivatives[i].shape[0]):\n",
    "                for icoluna in range(self.derivatives[i].shape[1]):\n",
    "                    if i == len(self.derivatives) - 1:\n",
    "                        self.derivatives[i][ilinha,icoluna] = delta * self.activations[i][ilinha]\n",
    "                    else:\n",
    "            '''\n",
    "            \n",
    "            delta_re = delta.reshape(delta.shape[0], -1).T\n",
    "            current_activations = self.activations[i]\n",
    "            current_activations = current_activations.reshape(current_activations.shape[0],-1)\n",
    "            self.derivatives[i] = np.dot(current_activations, delta_re)\n",
    "            error = np.dot(delta, self.weights[i].T)\n",
    "\n",
    "\n",
    "    def train(self, inputs, targets, epochs, learning_rate):\n",
    "        \n",
    "        for i in range(epochs):\n",
    "            sum_errors = 0\n",
    "\n",
    "            for j, datapoint in enumerate(inputs):\n",
    "                target = targets[j]\n",
    "                output = self.forward_propagate(datapoint)\n",
    "                error = target - output\n",
    "                self.back_propagate(error)\n",
    "                self.gradient_descent(learning_rate)\n",
    "                sum_errors+=self._mse(target, output)\n",
    "    \n",
    "            self.epochs_errors.append(sum_errors)\n",
    "\n",
    "\n",
    "    def gradient_descent(self, learningRate=1):\n",
    "\n",
    "        for i in range(len(self.weights)):\n",
    "            weights = self.weights[i]\n",
    "            derivatives = self.derivatives[i]\n",
    "            weights += derivatives * learningRate\n",
    "\n",
    "\n",
    "    def _sigmoid(self, x):\n",
    "        epsilon = 1e-3\n",
    "        y = 1.0 / (1 + np.exp(-x+epsilon))\n",
    "        return y.astype(np.longdouble)\n",
    "\n",
    "    def _sigmoid_derivative(self, x):\n",
    "        return x * (1.0 - x).astype(np.longdouble)\n",
    "\n",
    "\n",
    "    def _mse(self, target, output):\n",
    "        return np.mean(np.square(target - output))"
   ]
  },
  {
   "cell_type": "code",
   "execution_count": 57,
   "id": "518e087e",
   "metadata": {},
   "outputs": [],
   "source": [
    "ones = np.ones(X_train.shape[0]).reshape(-1,1)\n",
    "X_train_biased = np.hstack((ones,X_train))"
   ]
  },
  {
   "cell_type": "code",
   "execution_count": 58,
   "id": "4c122f99",
   "metadata": {
    "scrolled": true
   },
   "outputs": [
    {
     "name": "stderr",
     "output_type": "stream",
     "text": [
      "C:\\Users\\Cliente\\AppData\\Local\\Temp\\ipykernel_9672\\405732782.py:108: RuntimeWarning: overflow encountered in exp\n",
      "  y = 1.0 / (1 + np.exp(-x+epsilon))\n"
     ]
    }
   ],
   "source": [
    "lrmlp = LRMLP(X_train_biased.shape[1], [14,15], y_train.reshape(-1,1).shape[1])\n",
    "\n",
    "lrmlp.train(X_train_biased, y_train.reshape(-1,1), 100, 0.00001)"
   ]
  },
  {
   "cell_type": "code",
   "execution_count": 59,
   "id": "5a7521f1",
   "metadata": {},
   "outputs": [
    {
     "data": {
      "text/plain": [
       "[<matplotlib.lines.Line2D at 0x16b52c7cd90>]"
      ]
     },
     "execution_count": 59,
     "metadata": {},
     "output_type": "execute_result"
    },
    {
     "data": {
      "image/png": "[encoded data removed]",
      "text/plain": [
       "<Figure size 640x480 with 1 Axes>"
      ]
     },
     "metadata": {},
     "output_type": "display_data"
    }
   ],
   "source": [
    "# Plotando MSE ao longo das epochs\n",
    "plt.plot(range(100),lrmlp.epochs_errors)"
   ]
  },
  {
   "cell_type": "code",
   "execution_count": 60,
   "id": "6927c51c",
   "metadata": {},
   "outputs": [
    {
     "name": "stderr",
     "output_type": "stream",
     "text": [
      "C:\\Users\\Cliente\\AppData\\Local\\Temp\\ipykernel_9672\\405732782.py:108: RuntimeWarning: overflow encountered in exp\n",
      "  y = 1.0 / (1 + np.exp(-x+epsilon))\n"
     ]
    }
   ],
   "source": [
    "outputs = []\n",
    "for i in range(y_train.reshape(-1,1).shape[0]):\n",
    "    output = lrmlp.forward_propagate(X_train_biased[i])\n",
    "    outputs.append(output)\n",
    "\n",
    "outputs = np.array(outputs)"
   ]
  },
  {
   "cell_type": "code",
   "execution_count": 69,
   "id": "68dac8c2",
   "metadata": {},
   "outputs": [
    {
     "data": {
      "text/plain": [
       "array([21.50987979, 21.50987979, 21.50987979, 21.50987979, 21.50987988,\n",
       "       21.50988034, 21.50988228, 21.50988569, 21.50990914, 21.51076413,\n",
       "       21.67044207, 21.68934298, 21.68948191, 21.68953863, 21.68954484,\n",
       "       21.68954484, 21.68954484, 21.68954484, 21.68954484, 21.68954484,\n",
       "       21.74878967, 21.74881078, 21.76268032, 21.76268032, 21.76268032,\n",
       "       21.76268032, 21.76268102, 21.76268176, 21.76269088, 21.76269792,\n",
       "       21.76270791, 21.7627651 , 21.76363058], dtype=float64)"
      ]
     },
     "execution_count": 69,
     "metadata": {},
     "output_type": "execute_result"
    }
   ],
   "source": [
    "np.unique(outputs)"
   ]
  },
  {
   "cell_type": "code",
   "execution_count": 61,
   "id": "78123ac6",
   "metadata": {
    "scrolled": true
   },
   "outputs": [
    {
     "data": {
      "text/plain": [
       "9.608743559880331"
      ]
     },
     "execution_count": 61,
     "metadata": {},
     "output_type": "execute_result"
    }
   ],
   "source": [
    "rmse = np.sqrt(np.mean((y_train.reshape(-1,1) - outputs)**2))\n",
    "rmse"
   ]
  }
 ],
 "metadata": {
  "kernelspec": {
   "display_name": "Python 3 (ipykernel)",
   "language": "python",
   "name": "python3"
  },
  "language_info": {
   "codemirror_mode": {
    "name": "ipython",
    "version": 3
   },
   "file_extension": ".py",
   "mimetype": "text/x-python",
   "name": "python",
   "nbconvert_exporter": "python",
   "pygments_lexer": "ipython3",
   "version": "3.11.5"
  }
 },
 "nbformat": 4,
 "nbformat_minor": 5
}
