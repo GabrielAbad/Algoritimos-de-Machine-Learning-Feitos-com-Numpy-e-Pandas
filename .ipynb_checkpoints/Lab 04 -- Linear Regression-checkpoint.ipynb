{
 "cells": [
  {
   "cell_type": "code",
   "execution_count": 19,
   "metadata": {},
   "outputs": [],
   "source": [
    "import numpy as np\n",
    "import pandas as pd\n",
    "import matplotlib.pyplot as plt"
   ]
  },
  {
   "cell_type": "markdown",
   "metadata": {},
   "source": [
    "# Linear Regression\n",
    "\n",
    "In this lab, we are going to implement a Linear Regression model \"by hand\" and also use sklearn to implement linear regressors using different basis functions, and then add regularization to the models.\n",
    "\n"
   ]
  },
  {
   "cell_type": "markdown",
   "metadata": {},
   "source": [
    "## Part 1 - Synthetic and real datasets\n",
    "\n",
    "* Generate 50 points in a line in the interval $[0, 10]$ for `x`, perturbed by a small gaussian noise. For example, `y = 2 * x + 5 + noise` where `noise` is taken from a normal distribution.\n",
    "* plot the generated data as a scatter plot, and the line without noise as a reference\n",
    "\n",
    "*Note:* If you want to generate the same data as I generated, use $y = 3x + 5 + \\epsilon$ after setting the random seed to 0"
   ]
  },
  {
   "cell_type": "code",
   "execution_count": 20,
   "metadata": {},
   "outputs": [
    {
     "data": {
      "text/plain": [
       "[<matplotlib.lines.Line2D at 0x21ca8d8d850>]"
      ]
     },
     "execution_count": 20,
     "metadata": {},
     "output_type": "execute_result"
    },
    {
     "data": {
      "image/png": "[encoded data removed]",
      "text/plain": [
       "<Figure size 800x600 with 1 Axes>"
      ]
     },
     "metadata": {},
     "output_type": "display_data"
    }
   ],
   "source": [
    "np.random.seed(0)\n",
    "x = np.linspace(0, 10, 50)\n",
    "noise = np.random.normal(0, 1, 50)\n",
    "y = 3 * x + 5 + noise\n",
    "y_line = 3 * x + 5\n",
    "plt.figure(figsize=(8, 6))\n",
    "plt.scatter(x, y)\n",
    "plt.plot(x, y_line)"
   ]
  },
  {
   "cell_type": "markdown",
   "metadata": {},
   "source": [
    "### Load the housing dataset\n",
    "\n",
    "For this lab we will be using the raw version of the Housing dataset that you used for the first coursework.\n",
    "\n",
    "**Housing.txt:** this dataset is constituted by 506 points in 14 dimensions. Each point represents a house in the Boston area, and the 14 attributes that you find orderly in each column are the following:\n",
    "* `CRIM` - per capita crime rate by town\n",
    "* `ZN` - proportion of residential land zoned for lots over 25,000 sq.ft.\n",
    "* `INDUS` - proportion of non-retail business acres per town.\n",
    "* `CHAS` - Charles River dummy variable (1 if tract bounds river; 0 otherwise) \n",
    "* `NOX` - nitric oxides concentration (parts per 10 million)\n",
    "* `RM` - average number of rooms per dwelling\n",
    "* `AGE` - proportion of owner-occupied units built prior to 1940\n",
    "* `DIS` - weighted distances to five Boston employment centres\n",
    "* `RAD` - index of accessibility to radial highways\n",
    "* `TAX` - full-value property-tax rate per \\$10,000\n",
    "* `PTRATIO` - pupil-teacher ratio by town\n",
    "* `B` - 1000(Bk - 0.63)^2 where Bk is the proportion of blacks by town\n",
    "* `LSTAT` - % lower status of the population\n",
    "* `MEDV` - Median value of owner-occupied homes in $1000's\n",
    "\n",
    "This dataset is normally associated with 2 regression tasks: predicting `NOX` (in which the nitrous oxide level is to be predicted); and predicting price `MEDV` (in which the median value of a home is to be predicted)."
   ]
  },
  {
   "cell_type": "code",
   "execution_count": 21,
   "metadata": {},
   "outputs": [
    {
     "name": "stderr",
     "output_type": "stream",
     "text": [
      "C:\\Users\\Cliente\\AppData\\Local\\Temp\\ipykernel_1304\\2044010099.py:2: ParserWarning: Falling back to the 'python' engine because the 'c' engine does not support regex separators (separators > 1 char and different from '\\s+' are interpreted as regex); you can avoid this warning by specifying engine='python'.\n",
      "  housing = pd.read_table(\"housing.csv\", names=housing_names, sep='\\,')\n"
     ]
    },
    {
     "data": {
      "text/html": [
       "<div>\n",
       "<style scoped>\n",
       "    .dataframe tbody tr th:only-of-type {\n",
       "        vertical-align: middle;\n",
       "    }\n",
       "\n",
       "    .dataframe tbody tr th {\n",
       "        vertical-align: top;\n",
       "    }\n",
       "\n",
       "    .dataframe thead th {\n",
       "        text-align: right;\n",
       "    }\n",
       "</style>\n",
       "<table border=\"1\" class=\"dataframe\">\n",
       "  <thead>\n",
       "    <tr style=\"text-align: right;\">\n",
       "      <th></th>\n",
       "      <th>CRIM</th>\n",
       "      <th>ZN</th>\n",
       "      <th>INDUS</th>\n",
       "      <th>CHAS</th>\n",
       "      <th>NOX</th>\n",
       "      <th>RM</th>\n",
       "      <th>AGE</th>\n",
       "      <th>DIS</th>\n",
       "      <th>RAD</th>\n",
       "      <th>TAX</th>\n",
       "      <th>PTRATIO</th>\n",
       "      <th>B</th>\n",
       "      <th>LSTAT</th>\n",
       "      <th>MEDV</th>\n",
       "    </tr>\n",
       "  </thead>\n",
       "  <tbody>\n",
       "    <tr>\n",
       "      <th>1</th>\n",
       "      <td>0.0</td>\n",
       "      <td>0.16551443847757338</td>\n",
       "      <td>0.06781524926686218</td>\n",
       "      <td>0.0</td>\n",
       "      <td>0.273695830477041</td>\n",
       "      <td>0.4558446556550128</td>\n",
       "      <td>0.49567539105883546</td>\n",
       "      <td>0.23838925398768368</td>\n",
       "      <td>0.0</td>\n",
       "      <td>0.18897873782313399</td>\n",
       "      <td>0.2524957633267373</td>\n",
       "      <td>0.6931471805599452</td>\n",
       "      <td>0.08588399412377948</td>\n",
       "      <td>3.2188758248682006</td>\n",
       "    </tr>\n",
       "    <tr>\n",
       "      <th>2</th>\n",
       "      <td>0.00023589471383251288</td>\n",
       "      <td>0.0</td>\n",
       "      <td>0.2423020527859238</td>\n",
       "      <td>0.0</td>\n",
       "      <td>0.15942773692810197</td>\n",
       "      <td>0.4369622898362954</td>\n",
       "      <td>0.5781280868848844</td>\n",
       "      <td>0.2993353931326901</td>\n",
       "      <td>0.04255961441879593</td>\n",
       "      <td>0.09981079325195306</td>\n",
       "      <td>0.44031183943833263</td>\n",
       "      <td>0.6931471805599452</td>\n",
       "      <td>0.18603980111083265</td>\n",
       "      <td>3.1179499062782403</td>\n",
       "    </tr>\n",
       "    <tr>\n",
       "      <th>3</th>\n",
       "      <td>0.0002356699716511248</td>\n",
       "      <td>0.0</td>\n",
       "      <td>0.2423020527859238</td>\n",
       "      <td>0.0</td>\n",
       "      <td>0.15942773692810197</td>\n",
       "      <td>0.5273203729323218</td>\n",
       "      <td>0.46961735485736217</td>\n",
       "      <td>0.2993353931326901</td>\n",
       "      <td>0.04255961441879593</td>\n",
       "      <td>0.09981079325195306</td>\n",
       "      <td>0.44031183943833263</td>\n",
       "      <td>0.6880025966109696</td>\n",
       "      <td>0.06153318181144175</td>\n",
       "      <td>3.5751506887855933</td>\n",
       "    </tr>\n",
       "    <tr>\n",
       "      <th>4</th>\n",
       "      <td>0.00029275286287910716</td>\n",
       "      <td>0.0</td>\n",
       "      <td>0.06304985337243403</td>\n",
       "      <td>0.0</td>\n",
       "      <td>0.13994084925460543</td>\n",
       "      <td>0.5059469094428497</td>\n",
       "      <td>0.36590104731202505</td>\n",
       "      <td>0.3705593212114958</td>\n",
       "      <td>0.08338160893905106</td>\n",
       "      <td>0.06465778883405697</td>\n",
       "      <td>0.5001303346492426</td>\n",
       "      <td>0.6902811074512862</td>\n",
       "      <td>0.032843228788449905</td>\n",
       "      <td>3.5380565643793527</td>\n",
       "    </tr>\n",
       "    <tr>\n",
       "      <th>5</th>\n",
       "      <td>0.0007048216302691453</td>\n",
       "      <td>0.0</td>\n",
       "      <td>0.06304985337243403</td>\n",
       "      <td>0.0</td>\n",
       "      <td>0.13994084925460543</td>\n",
       "      <td>0.5230139292868933</td>\n",
       "      <td>0.42416995543600083</td>\n",
       "      <td>0.3705593212114958</td>\n",
       "      <td>0.08338160893905106</td>\n",
       "      <td>0.06465778883405697</td>\n",
       "      <td>0.5001303346492426</td>\n",
       "      <td>0.6931471805599452</td>\n",
       "      <td>0.0947079515416189</td>\n",
       "      <td>3.616308761279101</td>\n",
       "    </tr>\n",
       "    <tr>\n",
       "      <th>...</th>\n",
       "      <td>...</td>\n",
       "      <td>...</td>\n",
       "      <td>...</td>\n",
       "      <td>...</td>\n",
       "      <td>...</td>\n",
       "      <td>...</td>\n",
       "      <td>...</td>\n",
       "      <td>...</td>\n",
       "      <td>...</td>\n",
       "      <td>...</td>\n",
       "      <td>...</td>\n",
       "      <td>...</td>\n",
       "      <td>...</td>\n",
       "      <td>...</td>\n",
       "    </tr>\n",
       "    <tr>\n",
       "      <th>502</th>\n",
       "      <td>0.0006327106197177769</td>\n",
       "      <td>0.0</td>\n",
       "      <td>0.42045454545454547</td>\n",
       "      <td>0.0</td>\n",
       "      <td>0.32702148701181316</td>\n",
       "      <td>0.45802859246093003</td>\n",
       "      <td>0.5198476246791401</td>\n",
       "      <td>0.11571060925114904</td>\n",
       "      <td>0.0</td>\n",
       "      <td>0.15196727284631473</td>\n",
       "      <td>0.6384887680220813</td>\n",
       "      <td>0.6869375122545108</td>\n",
       "      <td>0.19810871681719253</td>\n",
       "      <td>3.152736022363656</td>\n",
       "    </tr>\n",
       "    <tr>\n",
       "      <th>503</th>\n",
       "      <td>0.00043769280743545676</td>\n",
       "      <td>0.0</td>\n",
       "      <td>0.42045454545454547</td>\n",
       "      <td>0.0</td>\n",
       "      <td>0.32702148701181316</td>\n",
       "      <td>0.39899342307227936</td>\n",
       "      <td>0.565337214824266</td>\n",
       "      <td>0.10011073860026859</td>\n",
       "      <td>0.0</td>\n",
       "      <td>0.15196727284631473</td>\n",
       "      <td>0.6384887680220813</td>\n",
       "      <td>0.6931471805599452</td>\n",
       "      <td>0.18466428507552266</td>\n",
       "      <td>3.0726933146901194</td>\n",
       "    </tr>\n",
       "    <tr>\n",
       "      <th>504</th>\n",
       "      <td>0.0006117053443038648</td>\n",
       "      <td>0.0</td>\n",
       "      <td>0.42045454545454547</td>\n",
       "      <td>0.0</td>\n",
       "      <td>0.32702148701181316</td>\n",
       "      <td>0.5034020844720096</td>\n",
       "      <td>0.6456949469147998</td>\n",
       "      <td>0.0901890380016797</td>\n",
       "      <td>0.0</td>\n",
       "      <td>0.15196727284631473</td>\n",
       "      <td>0.6384887680220813</td>\n",
       "      <td>0.6931471805599452</td>\n",
       "      <td>0.1024589592179921</td>\n",
       "      <td>3.214867803470662</td>\n",
       "    </tr>\n",
       "    <tr>\n",
       "      <th>505</th>\n",
       "      <td>0.0011600567748273284</td>\n",
       "      <td>0.0</td>\n",
       "      <td>0.42045454545454547</td>\n",
       "      <td>0.0</td>\n",
       "      <td>0.32702148701181316</td>\n",
       "      <td>0.482097287092534</td>\n",
       "      <td>0.6364732921973457</td>\n",
       "      <td>0.10841851650460242</td>\n",
       "      <td>0.0</td>\n",
       "      <td>0.15196727284631473</td>\n",
       "      <td>0.6384887680220813</td>\n",
       "      <td>0.6887880032892966</td>\n",
       "      <td>0.12316465334146762</td>\n",
       "      <td>3.1354942159291497</td>\n",
       "    </tr>\n",
       "    <tr>\n",
       "      <th>506</th>\n",
       "      <td>0.00046173507689203496</td>\n",
       "      <td>0.0</td>\n",
       "      <td>0.42045454545454547</td>\n",
       "      <td>0.0</td>\n",
       "      <td>0.32702148701181316</td>\n",
       "      <td>0.38735485900671524</td>\n",
       "      <td>0.5890445986262348</td>\n",
       "      <td>0.1178466879331105</td>\n",
       "      <td>0.0</td>\n",
       "      <td>0.15196727284631473</td>\n",
       "      <td>0.6384887680220813</td>\n",
       "      <td>0.6931471805599452</td>\n",
       "      <td>0.15674900418976717</td>\n",
       "      <td>2.5572273113676265</td>\n",
       "    </tr>\n",
       "  </tbody>\n",
       "</table>\n",
       "<p>506 rows × 14 columns</p>\n",
       "</div>"
      ],
      "text/plain": [
       "                       CRIM                   ZN                INDUS CHAS  \\\n",
       "1                       0.0  0.16551443847757338  0.06781524926686218  0.0   \n",
       "2    0.00023589471383251288                  0.0   0.2423020527859238  0.0   \n",
       "3     0.0002356699716511248                  0.0   0.2423020527859238  0.0   \n",
       "4    0.00029275286287910716                  0.0  0.06304985337243403  0.0   \n",
       "5     0.0007048216302691453                  0.0  0.06304985337243403  0.0   \n",
       "..                      ...                  ...                  ...  ...   \n",
       "502   0.0006327106197177769                  0.0  0.42045454545454547  0.0   \n",
       "503  0.00043769280743545676                  0.0  0.42045454545454547  0.0   \n",
       "504   0.0006117053443038648                  0.0  0.42045454545454547  0.0   \n",
       "505   0.0011600567748273284                  0.0  0.42045454545454547  0.0   \n",
       "506  0.00046173507689203496                  0.0  0.42045454545454547  0.0   \n",
       "\n",
       "                     NOX                   RM                  AGE  \\\n",
       "1      0.273695830477041   0.4558446556550128  0.49567539105883546   \n",
       "2    0.15942773692810197   0.4369622898362954   0.5781280868848844   \n",
       "3    0.15942773692810197   0.5273203729323218  0.46961735485736217   \n",
       "4    0.13994084925460543   0.5059469094428497  0.36590104731202505   \n",
       "5    0.13994084925460543   0.5230139292868933  0.42416995543600083   \n",
       "..                   ...                  ...                  ...   \n",
       "502  0.32702148701181316  0.45802859246093003   0.5198476246791401   \n",
       "503  0.32702148701181316  0.39899342307227936    0.565337214824266   \n",
       "504  0.32702148701181316   0.5034020844720096   0.6456949469147998   \n",
       "505  0.32702148701181316    0.482097287092534   0.6364732921973457   \n",
       "506  0.32702148701181316  0.38735485900671524   0.5890445986262348   \n",
       "\n",
       "                     DIS                  RAD                  TAX  \\\n",
       "1    0.23838925398768368                  0.0  0.18897873782313399   \n",
       "2     0.2993353931326901  0.04255961441879593  0.09981079325195306   \n",
       "3     0.2993353931326901  0.04255961441879593  0.09981079325195306   \n",
       "4     0.3705593212114958  0.08338160893905106  0.06465778883405697   \n",
       "5     0.3705593212114958  0.08338160893905106  0.06465778883405697   \n",
       "..                   ...                  ...                  ...   \n",
       "502  0.11571060925114904                  0.0  0.15196727284631473   \n",
       "503  0.10011073860026859                  0.0  0.15196727284631473   \n",
       "504   0.0901890380016797                  0.0  0.15196727284631473   \n",
       "505  0.10841851650460242                  0.0  0.15196727284631473   \n",
       "506   0.1178466879331105                  0.0  0.15196727284631473   \n",
       "\n",
       "                 PTRATIO                   B                 LSTAT  \\\n",
       "1     0.2524957633267373  0.6931471805599452   0.08588399412377948   \n",
       "2    0.44031183943833263  0.6931471805599452   0.18603980111083265   \n",
       "3    0.44031183943833263  0.6880025966109696   0.06153318181144175   \n",
       "4     0.5001303346492426  0.6902811074512862  0.032843228788449905   \n",
       "5     0.5001303346492426  0.6931471805599452    0.0947079515416189   \n",
       "..                   ...                 ...                   ...   \n",
       "502   0.6384887680220813  0.6869375122545108   0.19810871681719253   \n",
       "503   0.6384887680220813  0.6931471805599452   0.18466428507552266   \n",
       "504   0.6384887680220813  0.6931471805599452    0.1024589592179921   \n",
       "505   0.6384887680220813  0.6887880032892966   0.12316465334146762   \n",
       "506   0.6384887680220813  0.6931471805599452   0.15674900418976717   \n",
       "\n",
       "                   MEDV  \n",
       "1    3.2188758248682006  \n",
       "2    3.1179499062782403  \n",
       "3    3.5751506887855933  \n",
       "4    3.5380565643793527  \n",
       "5     3.616308761279101  \n",
       "..                  ...  \n",
       "502   3.152736022363656  \n",
       "503  3.0726933146901194  \n",
       "504   3.214867803470662  \n",
       "505  3.1354942159291497  \n",
       "506  2.5572273113676265  \n",
       "\n",
       "[506 rows x 14 columns]"
      ]
     },
     "execution_count": 21,
     "metadata": {},
     "output_type": "execute_result"
    }
   ],
   "source": [
    "housing_names = [\"CRIM\", \"ZN\", \"INDUS\", \"CHAS\", \"NOX\", \"RM\", \"AGE\", \"DIS\", \"RAD\", \"TAX\", \"PTRATIO\", \"B\", \"LSTAT\", \"MEDV\"]\n",
    "housing = pd.read_table(\"housing.csv\", names=housing_names, sep='\\,')\n",
    "housing = housing.drop(0,axis=0)\n",
    "housing"
   ]
  },
  {
   "cell_type": "markdown",
   "metadata": {},
   "source": [
    "## Part 2 -- Build Linear Regression Models\n",
    "\n",
    "You will need to implement it twice:\n",
    "\n",
    "1. using the Normal Equations seen in class (Moore-Penrose pseudo-inverse)\n",
    "2. using stochastic gradient descent\n",
    "\n",
    "* **Tip 1:** When you implement the stochastic gradient version it will be crucial to plot the sum of squares error as a function of the iteration\n",
    "* **Tip 2:** You will need to initialize the weights. Start by choosing them randomly, Gaussian distributed, with a very small variance...\n",
    "\n",
    "Run some experiments with your stochastic gradient descent version, and think about these questions: \n",
    "* what happens with different values of the step parameter? \n",
    "* Does the system always converge to the same solution? \n",
    "* Are you getting the same solution that you get with the closed form implementation? \n",
    "* What happens if you initialize your weights to values that are too big?\n",
    "\n",
    "Below, I provide some skeletons for your implementations, but feel free to structure your code differently.\n",
    "\n",
    "Remember to:\n",
    "* Separate the datasets into training and testing (I used 60% for training)\n"
   ]
  },
  {
   "cell_type": "code",
   "execution_count": 22,
   "metadata": {},
   "outputs": [],
   "source": [
    "def linear_regression_PI(X, y):\n",
    "    \"\"\"\n",
    "    Implements a Linear Regression model using the Moore-Penrose pseudo-inverse\n",
    "    \n",
    "    Parameters\n",
    "    ----------\n",
    "    X : array\n",
    "        A 2-dimensional array with samples in the rows and features in the columns\n",
    "    y : array\n",
    "        An array with the same number of  as samples in X, the values to predict\n",
    "    \n",
    "    Returns\n",
    "    -------\n",
    "    w : array\n",
    "        Learnt parameters\n",
    "        \n",
    "    Notes\n",
    "    -----\n",
    "    The first column of w corresponds to the bias (`w_0`)\n",
    "    \"\"\"\n",
    "    coluna_de_uns = np.ones((X.shape[0], 1), dtype=int)\n",
    "    X = np.concatenate((coluna_de_uns,X), axis=1)\n",
    "    y = y.reshape(-1,1)\n",
    "    w = np.linalg.pinv(X).dot(y)\n",
    "    return w\n",
    "\n",
    "    \n",
    "    \n",
    "    \n",
    "def linear_regression_SGD(X, y, lr, max_iter=10):\n",
    "    \"\"\"\n",
    "    Implements a Linear Regression model using Stochastic Gradient Descent\n",
    "    \n",
    "    Parameters\n",
    "    ----------\n",
    "    X : array\n",
    "        A 2-dimensional array with samples in the rows and features in the columns\n",
    "    y : array\n",
    "        An array with the same number of samples as rows in X, the values to predict\n",
    "    lr : float\n",
    "        Learning rate\n",
    "    max_iter : int\n",
    "        number of epochs to use for the gradient descent\n",
    "    \n",
    "    Returns\n",
    "    -------\n",
    "    w : array\n",
    "        Learnt parameters\n",
    "    sse_history : array\n",
    "        An array that contains the error of the model in every iteration\n",
    "    Notes\n",
    "    -----\n",
    "    This function uses the gradient of the sum of squares function (Equations 3.12, and 3.23 in the Bishop book)\n",
    "    \"\"\"\n",
    "    # Initialize weights\n",
    "    coluna_de_uns = np.ones((X.shape[0], 1), dtype=int)\n",
    "    X = np.concatenate((coluna_de_uns,X), axis=1)\n",
    "    w = np.random.normal(0, 0.01,X.shape[1]).reshape(-1, 1)\n",
    "    sse_history = []\n",
    "\n",
    "    # Stochastic Gradient Descent\n",
    "    for epoch in range(max_iter):\n",
    "        total_error = 0\n",
    "        for i in range(X.shape[0]):\n",
    "            \n",
    "            y_pred = np.dot(X[i], w)   \n",
    "            error = y[i] - y_pred\n",
    "            total_error += error**2\n",
    "            \n",
    "            w += lr * error * X[i].reshape(-1, 1)\n",
    "        \n",
    "        # Calculate Mean Squared Error for this epoch\n",
    "        mse = total_error / X.shape[0]\n",
    "        sse_history.append(mse[0])\n",
    "        \n",
    "    return w, sse_history"
   ]
  },
  {
   "cell_type": "markdown",
   "metadata": {},
   "source": [
    "we can now use this function to learn the parameters for predicting `NOX`"
   ]
  },
  {
   "cell_type": "markdown",
   "metadata": {},
   "source": [
    "First you will have to prepare the data:\n",
    "- Separate the features from the target variables (Put the features in a matrix X and the target variable in a vector y)\n",
    "- Split the data using sklearn's train_test_split."
   ]
  },
  {
   "cell_type": "code",
   "execution_count": 23,
   "metadata": {},
   "outputs": [],
   "source": [
    "from sklearn.model_selection import train_test_split\n",
    "X = housing.drop(\"NOX\",axis=1)\n",
    "y = housing[\"NOX\"]\n",
    "\n",
    "X_train, X_test, y_train, y_test = train_test_split(X, y, test_size=0.4, random_state=42)"
   ]
  },
  {
   "cell_type": "markdown",
   "metadata": {},
   "source": [
    "Now use the functions you coded to learn the weights!"
   ]
  },
  {
   "cell_type": "code",
   "execution_count": 24,
   "metadata": {},
   "outputs": [],
   "source": [
    "X_train_array = X_train.to_numpy().astype('float64')\n",
    "y_train_array = np.array(y_train).astype('float64')\n",
    "lrPI_w = linear_regression_PI(X_train_array, y_train_array)\n",
    "sgd_w, sse_history = linear_regression_SGD(X_train_array, y_train_array, 0.005, max_iter=100)"
   ]
  },
  {
   "cell_type": "code",
   "execution_count": 25,
   "metadata": {},
   "outputs": [
    {
     "name": "stdout",
     "output_type": "stream",
     "text": [
      "[[ 0.46623814]\n",
      " [-0.21770323]\n",
      " [-0.04328764]\n",
      " [ 0.14976596]\n",
      " [ 0.01210185]\n",
      " [ 0.03568094]\n",
      " [ 0.15485067]\n",
      " [-0.44657556]\n",
      " [ 0.15095904]\n",
      " [ 0.06690766]\n",
      " [-0.2083887 ]\n",
      " [ 0.02567277]\n",
      " [ 0.01839287]\n",
      " [-0.07022061]] \n",
      "\n",
      "[[ 0.1085765 ]\n",
      " [-0.00280928]\n",
      " [-0.07201232]\n",
      " [ 0.18440726]\n",
      " [ 0.00110539]\n",
      " [ 0.0405212 ]\n",
      " [ 0.22234254]\n",
      " [-0.26132937]\n",
      " [ 0.10094085]\n",
      " [ 0.10774113]\n",
      " [-0.16833237]\n",
      " [ 0.01490168]\n",
      " [ 0.1266492 ]\n",
      " [ 0.00687322]] \n",
      "\n"
     ]
    }
   ],
   "source": [
    "print(lrPI_w,'\\n')\n",
    "print(sgd_w,'\\n')"
   ]
  },
  {
   "cell_type": "markdown",
   "metadata": {},
   "source": [
    "make a plot that shows the evolution of the sum of squares error\n",
    "\n",
    "**tip:** make it a callable function that you can reuse for the next task"
   ]
  },
  {
   "cell_type": "code",
   "execution_count": 26,
   "metadata": {},
   "outputs": [],
   "source": [
    "def plot_sse_history(sse_history):\n",
    "    \"\"\"\n",
    "    Plots the evolution of the sum of squares error (SSE) over epochs.\n",
    "    \n",
    "    Parameters\n",
    "    ----------\n",
    "    sse_history : list or array\n",
    "        List of SSE values for each epoch during training.\n",
    "    \"\"\"\n",
    "    epochs = range(1, len(sse_history) + 1)\n",
    "    \n",
    "    plt.figure(figsize=(8, 5))\n",
    "    plt.plot(epochs, sse_history, color='b')\n",
    "    plt.xlabel('Epoch')\n",
    "    plt.ylabel('Sum of Squares Error (SSE)')\n",
    "    plt.title('Evolution of Sum of Squares Error (SSE)')\n",
    "    plt.grid(True)\n",
    "    plt.tight_layout()\n",
    "    plt.show()"
   ]
  },
  {
   "cell_type": "code",
   "execution_count": 27,
   "metadata": {},
   "outputs": [
    {
     "data": {
      "image/png": "[encoded data removed]",
      "text/plain": [
       "<Figure size 800x500 with 1 Axes>"
      ]
     },
     "metadata": {},
     "output_type": "display_data"
    }
   ],
   "source": [
    "plot_sse_history(sse_history)"
   ]
  },
  {
   "cell_type": "markdown",
   "metadata": {},
   "source": [
    "Use the learn weights to make predictions for the test set, and evaluate the model using the root mean squared error (remember that the bias is the first column of the weight matrix)\n",
    "- You can use the function you coded for your coursework, but feel free to use sklearn's `mean_squared_error()` here"
   ]
  },
  {
   "cell_type": "code",
   "execution_count": 28,
   "metadata": {},
   "outputs": [
    {
     "name": "stdout",
     "output_type": "stream",
     "text": [
      "0.005719400802560276 \n",
      " 0.006559562588847321\n"
     ]
    }
   ],
   "source": [
    "from sklearn.metrics import mean_squared_error\n",
    "X_test_array = X_test.to_numpy().astype('float64')\n",
    "coluna_de_uns = np.ones((X_test_array.shape[0], 1), dtype=int)\n",
    "X_test_array = np.concatenate((coluna_de_uns,X_test_array), axis=1) \n",
    "y_test_array = np.array(y_test).astype('float64')\n",
    "lrPI_y_pred = X_test_array@lrPI_w\n",
    "sgd_y_pred = X_test_array@sgd_w\n",
    "lrPI_mse = mean_squared_error(y_test,lrPI_y_pred)\n",
    "sgd_mse = mean_squared_error(y_test,sgd_y_pred)\n",
    "print(lrPI_mse, '\\n', sgd_mse)"
   ]
  },
  {
   "cell_type": "markdown",
   "metadata": {},
   "source": [
    "Repeat the same analysis for predicting `MEDV`"
   ]
  },
  {
   "cell_type": "code",
   "execution_count": 29,
   "metadata": {},
   "outputs": [],
   "source": [
    "from sklearn.model_selection import train_test_split\n",
    "X_medv = housing.drop(\"MEDV\",axis=1)\n",
    "y_medv = housing[\"MEDV\"]\n",
    "\n",
    "X_train_medv, X_test_medv, y_train_medv, y_test_medv = train_test_split(X_medv, y_medv, test_size=0.4, random_state=42)"
   ]
  },
  {
   "cell_type": "code",
   "execution_count": 30,
   "metadata": {},
   "outputs": [],
   "source": [
    "X_train_array_medv = X_train_medv.to_numpy().astype('float64')\n",
    "y_train_array_medv = np.array(y_train_medv).astype('float64')\n",
    "lrPI_w_medv = linear_regression_PI(X_train_array_medv, y_train_array_medv)\n",
    "sgd_w_medv, sse_history_medv = linear_regression_SGD(X_train_array_medv, y_train_array_medv, 0.005, max_iter=100)"
   ]
  },
  {
   "cell_type": "code",
   "execution_count": 31,
   "metadata": {},
   "outputs": [
    {
     "name": "stdout",
     "output_type": "stream",
     "text": [
      "[[ 3.64106844]\n",
      " [-0.95323661]\n",
      " [ 0.08010222]\n",
      " [ 0.04074675]\n",
      " [ 0.15515369]\n",
      " [-0.43736608]\n",
      " [ 0.4759251 ]\n",
      " [-0.074626  ]\n",
      " [-0.76948398]\n",
      " [ 0.39398176]\n",
      " [-0.37196656]\n",
      " [-0.47916648]\n",
      " [ 0.33094172]\n",
      " [-1.58772526]] \n",
      "\n",
      "[[ 2.41575413]\n",
      " [-0.28014442]\n",
      " [ 0.08154676]\n",
      " [ 0.06967837]\n",
      " [ 0.19234819]\n",
      " [ 0.05703241]\n",
      " [ 1.37071732]\n",
      " [ 0.11195543]\n",
      " [ 0.09899041]\n",
      " [ 0.06714062]\n",
      " [-0.18429785]\n",
      " [-0.24292013]\n",
      " [ 0.65819856]\n",
      " [-1.117283  ]] \n",
      "\n"
     ]
    }
   ],
   "source": [
    "print(lrPI_w_medv,'\\n')\n",
    "print(sgd_w_medv,'\\n')"
   ]
  },
  {
   "cell_type": "code",
   "execution_count": 32,
   "metadata": {},
   "outputs": [
    {
     "data": {
      "image/png": "[encoded data removed]",
      "text/plain": [
       "<Figure size 800x500 with 1 Axes>"
      ]
     },
     "metadata": {},
     "output_type": "display_data"
    }
   ],
   "source": [
    "plot_sse_history(sse_history_medv)"
   ]
  },
  {
   "cell_type": "code",
   "execution_count": 33,
   "metadata": {},
   "outputs": [
    {
     "name": "stdout",
     "output_type": "stream",
     "text": [
      "0.032959013513093695 \n",
      " 11.913559809827595\n"
     ]
    }
   ],
   "source": [
    "#Algo de errado com as previsões\n",
    "from sklearn.metrics import mean_squared_error\n",
    "X_test_array_medv = X_test_medv.to_numpy().astype('float64')\n",
    "coluna_de_uns = np.ones((X_test_array_medv.shape[0], 1), dtype=int)\n",
    "X_test_array_medv = np.concatenate((coluna_de_uns,X_test_array_medv), axis=1)\n",
    "y_test_array_medv = np.array(y_test_medv).astype('float64')\n",
    "lrPI_y_pred_medv = X_test_array_medv@lrPI_w_medv\n",
    "sgd_y_pred_medv = X_test_array@sgd_w_medv\n",
    "lrPI_mse_medv = mean_squared_error(y_test_medv,lrPI_y_pred_medv)\n",
    "sgd_mse_medv = mean_squared_error(y_test_medv,sgd_y_pred_medv)\n",
    "print(lrPI_mse_medv, '\\n', sgd_mse_medv)"
   ]
  },
  {
   "cell_type": "markdown",
   "metadata": {},
   "source": [
    "## Part 3 - Polynomial basis function\n",
    "\n",
    "* Generate a 2D dataset using a sine wave (10 values for `x` in the interval $[0, 10]$), perturbed by a small gaussian noise. *Note:* To generate the same data as I generated, use $y = 4sin(x) + \\epsilon$ by setting the seed to 0\n",
    "* The Polynomial basis function that you will use is of the following form:\n",
    "    - $\\phi_i(x)=x^i$\n",
    "* You will do this to create models of degrees 2, 4, and 9.\n",
    "    - Transform your original `x` into the design matrix $\\Phi$ by applying the basis functions to each element of `x`\n",
    "    - For degree 2: $i\\in[0,1,2]$, for degree 4: $i\\in[0,1,2,3,4]$, and for degree 9: $i\\in[0,1,2,...,9]$\n",
    "    - *This means that for each Degree you will create a different $\\Phi$ and fit a different regression model.*\n",
    "\n",
    "* Plot the data and the prediction for each degree.\n",
    "* Which degree of polynomial works better to model this scenario? \n",
    "\n",
    "Example: Let's say that $$x=\\begin{bmatrix} x_1=2 \\\\ x_2=3 \\\\ x_3=1 \\end{bmatrix}$$\n",
    "Then for Degree 2 I will use the following basis functions: $\\phi_0(x_j)=x_j^0, \\phi_1(x_j)=x_j^1, \\phi_2(x_j)=x_j^2$.\n",
    "\n",
    "In this case, $\\Phi$ will look like: \n",
    "$$\\Phi=\\begin{bmatrix} \\phi_0(x_1)=x_1^0 & \\phi_1(x_1)=x_1^1 & \\phi_2(x_1)=x_1^2 \\\\ \\phi_0(x_2)=x_2^0 & \\phi_1(x_2)=x_2^1 & \\phi_2(x_2)=x_2^2 \\\\ \\phi_0(x_3)=x_3^0 & \\phi_1(x_3)=x_3^1 & \\phi_2(x_3)=x_3^2 \\end{bmatrix}$$\n",
    "\n",
    "Finally:\n",
    "$$\\Phi=\\begin{bmatrix} 1 & 2 & 4 \\\\ 1 & 3 & 9 \\\\ 1 & 1 & 1 \\end{bmatrix}$$\n",
    "\n",
    "__*Important:* You have to code this exercise yourself.__\n",
    "\n"
   ]
  },
  {
   "cell_type": "code",
   "execution_count": 1,
   "metadata": {},
   "outputs": [],
   "source": [
    "# your code here"
   ]
  },
  {
   "cell_type": "markdown",
   "metadata": {},
   "source": [
    "## Part 4 - Polynomial basis function\n",
    "\n",
    "For this part you will replicate the previous part but using the existing functions from sklearn!\n",
    "\n",
    "* Use the same data as the previous part.\n",
    "* Use sklearn's Linear Regression estimator together with a Polynomial transform to make a Linear regression with a polynomial basis.\n",
    "\n",
    "*Note:* To generate the same data as I generated, use $y = 4sin(x) + \\epsilon$ by setting the seed to 0"
   ]
  },
  {
   "cell_type": "code",
   "execution_count": 9,
   "metadata": {},
   "outputs": [
    {
     "data": {
      "image/png": "[encoded data removed]",
      "text/plain": [
       "<Figure size 576x576 with 1 Axes>"
      ]
     },
     "metadata": {
      "needs_background": "light"
     },
     "output_type": "display_data"
    },
    {
     "name": "stdout",
     "output_type": "stream",
     "text": [
      "coefficients: [ 0.          7.64947071 -4.52379915  0.77881323 -0.04055327]\n",
      "intercept: -0.17162172737101145\n"
     ]
    }
   ],
   "source": [
    "# your code here"
   ]
  }
 ],
 "metadata": {
  "kernelspec": {
   "display_name": "Python 3 (ipykernel)",
   "language": "python",
   "name": "python3"
  },
  "language_info": {
   "codemirror_mode": {
    "name": "ipython",
    "version": 3
   },
   "file_extension": ".py",
   "mimetype": "text/x-python",
   "name": "python",
   "nbconvert_exporter": "python",
   "pygments_lexer": "ipython3",
   "version": "3.11.5"
  }
 },
 "nbformat": 4,
 "nbformat_minor": 4
}
